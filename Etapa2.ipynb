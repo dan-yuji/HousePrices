{
 "cells": [
  {
   "cell_type": "markdown",
   "id": "9ab1f7a6",
   "metadata": {},
   "source": [
    "# House Prices - Advanced Regression Techniques\n",
    "(Preços de casas - Técnicas Avançadas de Regressão)\n",
    "\n",
    "<img src=\"https://github.com/lucaslealx/HousePrices/blob/main/img/img1.png?raw=true\" width=800>\n",
    "\n",
    "\n",
    "- Vamos utilizar o [dataset disponível no Kaggle](https://www.kaggle.com/competitions/house-prices-advanced-regression-techniques/overview)\n",
    "    - É um dataset de **competição**\n",
    "    - Temos uma base com a **descrição de cada uma das colunas (data_description.txt)**"
   ]
  },
  {
   "cell_type": "code",
   "execution_count": 1,
   "id": "0233c934",
   "metadata": {},
   "outputs": [],
   "source": [
    "# Importando o pandas\n",
    "import pandas as pd"
   ]
  },
  {
   "cell_type": "code",
   "execution_count": 2,
   "id": "3c8d95e7",
   "metadata": {},
   "outputs": [],
   "source": [
    "# Importando os datasets\n",
    "treino = pd.read_csv('train.csv')\n",
    "teste = pd.read_csv('test.csv')"
   ]
  },
  {
   "cell_type": "code",
   "execution_count": 3,
   "id": "bfd24d0c",
   "metadata": {},
   "outputs": [
    {
     "data": {
      "text/html": [
       "<div>\n",
       "<style scoped>\n",
       "    .dataframe tbody tr th:only-of-type {\n",
       "        vertical-align: middle;\n",
       "    }\n",
       "\n",
       "    .dataframe tbody tr th {\n",
       "        vertical-align: top;\n",
       "    }\n",
       "\n",
       "    .dataframe thead th {\n",
       "        text-align: right;\n",
       "    }\n",
       "</style>\n",
       "<table border=\"1\" class=\"dataframe\">\n",
       "  <thead>\n",
       "    <tr style=\"text-align: right;\">\n",
       "      <th></th>\n",
       "      <th>Id</th>\n",
       "      <th>MSSubClass</th>\n",
       "      <th>MSZoning</th>\n",
       "      <th>LotFrontage</th>\n",
       "      <th>LotArea</th>\n",
       "      <th>Street</th>\n",
       "      <th>Alley</th>\n",
       "      <th>LotShape</th>\n",
       "      <th>LandContour</th>\n",
       "      <th>Utilities</th>\n",
       "      <th>...</th>\n",
       "      <th>PoolArea</th>\n",
       "      <th>PoolQC</th>\n",
       "      <th>Fence</th>\n",
       "      <th>MiscFeature</th>\n",
       "      <th>MiscVal</th>\n",
       "      <th>MoSold</th>\n",
       "      <th>YrSold</th>\n",
       "      <th>SaleType</th>\n",
       "      <th>SaleCondition</th>\n",
       "      <th>SalePrice</th>\n",
       "    </tr>\n",
       "  </thead>\n",
       "  <tbody>\n",
       "    <tr>\n",
       "      <th>0</th>\n",
       "      <td>1</td>\n",
       "      <td>60</td>\n",
       "      <td>RL</td>\n",
       "      <td>65.0</td>\n",
       "      <td>8450</td>\n",
       "      <td>Pave</td>\n",
       "      <td>NaN</td>\n",
       "      <td>Reg</td>\n",
       "      <td>Lvl</td>\n",
       "      <td>AllPub</td>\n",
       "      <td>...</td>\n",
       "      <td>0</td>\n",
       "      <td>NaN</td>\n",
       "      <td>NaN</td>\n",
       "      <td>NaN</td>\n",
       "      <td>0</td>\n",
       "      <td>2</td>\n",
       "      <td>2008</td>\n",
       "      <td>WD</td>\n",
       "      <td>Normal</td>\n",
       "      <td>208500</td>\n",
       "    </tr>\n",
       "    <tr>\n",
       "      <th>1</th>\n",
       "      <td>2</td>\n",
       "      <td>20</td>\n",
       "      <td>RL</td>\n",
       "      <td>80.0</td>\n",
       "      <td>9600</td>\n",
       "      <td>Pave</td>\n",
       "      <td>NaN</td>\n",
       "      <td>Reg</td>\n",
       "      <td>Lvl</td>\n",
       "      <td>AllPub</td>\n",
       "      <td>...</td>\n",
       "      <td>0</td>\n",
       "      <td>NaN</td>\n",
       "      <td>NaN</td>\n",
       "      <td>NaN</td>\n",
       "      <td>0</td>\n",
       "      <td>5</td>\n",
       "      <td>2007</td>\n",
       "      <td>WD</td>\n",
       "      <td>Normal</td>\n",
       "      <td>181500</td>\n",
       "    </tr>\n",
       "    <tr>\n",
       "      <th>2</th>\n",
       "      <td>3</td>\n",
       "      <td>60</td>\n",
       "      <td>RL</td>\n",
       "      <td>68.0</td>\n",
       "      <td>11250</td>\n",
       "      <td>Pave</td>\n",
       "      <td>NaN</td>\n",
       "      <td>IR1</td>\n",
       "      <td>Lvl</td>\n",
       "      <td>AllPub</td>\n",
       "      <td>...</td>\n",
       "      <td>0</td>\n",
       "      <td>NaN</td>\n",
       "      <td>NaN</td>\n",
       "      <td>NaN</td>\n",
       "      <td>0</td>\n",
       "      <td>9</td>\n",
       "      <td>2008</td>\n",
       "      <td>WD</td>\n",
       "      <td>Normal</td>\n",
       "      <td>223500</td>\n",
       "    </tr>\n",
       "  </tbody>\n",
       "</table>\n",
       "<p>3 rows × 81 columns</p>\n",
       "</div>"
      ],
      "text/plain": [
       "   Id  MSSubClass MSZoning  LotFrontage  LotArea Street Alley LotShape  \\\n",
       "0   1          60       RL         65.0     8450   Pave   NaN      Reg   \n",
       "1   2          20       RL         80.0     9600   Pave   NaN      Reg   \n",
       "2   3          60       RL         68.0    11250   Pave   NaN      IR1   \n",
       "\n",
       "  LandContour Utilities  ... PoolArea PoolQC Fence MiscFeature MiscVal MoSold  \\\n",
       "0         Lvl    AllPub  ...        0    NaN   NaN         NaN       0      2   \n",
       "1         Lvl    AllPub  ...        0    NaN   NaN         NaN       0      5   \n",
       "2         Lvl    AllPub  ...        0    NaN   NaN         NaN       0      9   \n",
       "\n",
       "  YrSold  SaleType  SaleCondition  SalePrice  \n",
       "0   2008        WD         Normal     208500  \n",
       "1   2007        WD         Normal     181500  \n",
       "2   2008        WD         Normal     223500  \n",
       "\n",
       "[3 rows x 81 columns]"
      ]
     },
     "execution_count": 3,
     "metadata": {},
     "output_type": "execute_result"
    }
   ],
   "source": [
    "# Visualizando essa base\n",
    "treino.head(3)"
   ]
  },
  {
   "cell_type": "markdown",
   "id": "2db0cfd3",
   "metadata": {},
   "source": [
    "<a id=\"index\"></a>\n",
    "## Começando a explorar os dados\n",
    "- **Index:**\n",
    "    - [PoolQC, MiscFeature, Alley, Fence](#top4)\n",
    "    - [FireplaceQu](#FireplaceQu)\n",
    "    - [LotFrontage](#LotFrontage)\n",
    "    - [colunas de Garagem](#garagem)\n",
    "    - [colunas de Porão](#porao)\n",
    "    - [MasVnrType, MasVnrArea, Electrical system](#restante)\n",
    "    - [Analisando o restante das colunas de teste](#restante_teste)"
   ]
  },
  {
   "cell_type": "code",
   "execution_count": 4,
   "id": "b6528772",
   "metadata": {},
   "outputs": [
    {
     "data": {
      "text/plain": [
       "PoolQC         1453\n",
       "MiscFeature    1406\n",
       "Alley          1369\n",
       "Fence          1179\n",
       "FireplaceQu     690\n",
       "               ... \n",
       "ExterQual         0\n",
       "Exterior2nd       0\n",
       "Exterior1st       0\n",
       "RoofMatl          0\n",
       "SalePrice         0\n",
       "Length: 81, dtype: int64"
      ]
     },
     "execution_count": 4,
     "metadata": {},
     "output_type": "execute_result"
    }
   ],
   "source": [
    "# Visualizando quantidade de valores vazios\n",
    "treino.isnull().sum().sort_values(ascending=False)"
   ]
  },
  {
   "cell_type": "code",
   "execution_count": 5,
   "id": "bda71526",
   "metadata": {},
   "outputs": [
    {
     "data": {
      "text/plain": [
       "PoolQC          0.995205\n",
       "MiscFeature     0.963014\n",
       "Alley           0.937671\n",
       "Fence           0.807534\n",
       "FireplaceQu     0.472603\n",
       "LotFrontage     0.177397\n",
       "GarageYrBlt     0.055479\n",
       "GarageCond      0.055479\n",
       "GarageType      0.055479\n",
       "GarageFinish    0.055479\n",
       "dtype: float64"
      ]
     },
     "execution_count": 5,
     "metadata": {},
     "output_type": "execute_result"
    }
   ],
   "source": [
    "# Calculando % a quantidade de valores vazios\n",
    "(treino.isnull().sum()/treino.shape[0]).sort_values(ascending=False).head(10)"
   ]
  },
  {
   "cell_type": "markdown",
   "id": "3ce76c6c",
   "metadata": {},
   "source": [
    "<a id='4top'></a>\n",
    "- **As 4 primeiras colunas tem mais de 80% dos valores vazios na base de treino**\n",
    "    - Ao invés de eliminar essas colunas, vamos entender cada um dos dados:\n",
    "        - **PoolQC**: **Qualidade** da piscina\n",
    "            - NA: No Pool\n",
    "        - **MiscFeature**: Qualquer recurso não considerado nas outras categorias\n",
    "            - NA: None\n",
    "        - **Alley**: Tipo de beco / ruela para acesso a propriedade\n",
    "            - NA: No alley access\n",
    "        - **Fence**: **Qualidade** da cerca\n",
    "            - NA: No Fence\n",
    "\n",
    "\n",
    "- Nesse caso **o NA não é ausência de informação, <font color='red'>ele é uma informação</font>**\n",
    "\n",
    "\n",
    "- Podemos entender melhor os dados nessas colunas e principalmente sua **relação com o preço de venda**"
   ]
  },
  {
   "cell_type": "code",
   "execution_count": 6,
   "id": "2dd91a03",
   "metadata": {},
   "outputs": [],
   "source": [
    "# Podemos substituir os valores vazios na primeira coluna por -1\n",
    "treino[['PoolQC','MiscFeature','Alley','Fence']] = treino[['PoolQC','MiscFeature','Alley','Fence']].fillna(-1)"
   ]
  },
  {
   "cell_type": "code",
   "execution_count": 7,
   "id": "e5f020ce",
   "metadata": {},
   "outputs": [
    {
     "data": {
      "image/png": "[encoded data removed]",
      "text/plain": [
       "<Figure size 1000x600 with 4 Axes>"
      ]
     },
     "metadata": {},
     "output_type": "display_data"
    }
   ],
   "source": [
    "# Visualizando a relação com o preço\n",
    "import matplotlib.pyplot as plt\n",
    "import seaborn as sns\n",
    "\n",
    "fig, ax = plt.subplots(ncols=2,nrows=2,figsize=(10,6))\n",
    "\n",
    "sns.boxplot(x=treino.PoolQC,y=treino.SalePrice/100000,ax=ax[0,0])\n",
    "ax[0,0].set_ylabel('SalePrice (x100.000)')\n",
    "ax[0,0].set_title('Sale Price x Pool QC')\n",
    "sns.boxplot(x=treino.MiscFeature,y=treino.SalePrice/100000,ax=ax[0,1])\n",
    "ax[0,1].set_ylabel('SalePrice (x100.000)')\n",
    "ax[0,1].set_title('Sale Price x MiscFeature')\n",
    "sns.boxplot(x=treino.Alley,y=treino.SalePrice/100000,ax=ax[1,0])\n",
    "ax[1,0].set_ylabel('SalePrice (x100.000)')\n",
    "ax[1,0].set_title('Sale Price x Alley')\n",
    "sns.boxplot(x=treino.Fence,y=treino.SalePrice/100000,ax=ax[1,1])\n",
    "ax[1,1].set_ylabel('SalePrice (x100.000)')\n",
    "ax[1,1].set_title('Sale Price x Fence')\n",
    "\n",
    "plt.subplots_adjust(hspace=0.5)\n",
    "plt.show()"
   ]
  },
  {
   "cell_type": "markdown",
   "id": "14df8566",
   "metadata": {},
   "source": [
    "- **Vamos começar a já fazer os mesmos tratamentos para a <font color='blue'>base de teste</font>** \n",
    "    - (depois vamos automatizar esse processo, mas por enquanto vamos fazer o passo a passo de cada etapa)"
   ]
  },
  {
   "cell_type": "code",
   "execution_count": 8,
   "id": "5d4038d7",
   "metadata": {},
   "outputs": [
    {
     "data": {
      "text/plain": [
       "(1459, 80)"
      ]
     },
     "execution_count": 8,
     "metadata": {},
     "output_type": "execute_result"
    }
   ],
   "source": [
    "# Verificando o shape da base de treino\n",
    "teste.shape"
   ]
  },
  {
   "cell_type": "code",
   "execution_count": 9,
   "id": "d84ff741",
   "metadata": {},
   "outputs": [],
   "source": [
    "# Ajustando também para a base de teste\n",
    "teste[['PoolQC','MiscFeature','Alley','Fence']] = teste[['PoolQC','MiscFeature','Alley','Fence']].fillna(-1)"
   ]
  },
  {
   "cell_type": "code",
   "execution_count": 10,
   "id": "936dd4eb",
   "metadata": {},
   "outputs": [
    {
     "data": {
      "text/plain": [
       "(1459, 80)"
      ]
     },
     "execution_count": 10,
     "metadata": {},
     "output_type": "execute_result"
    }
   ],
   "source": [
    "# Verificando o shape da base de teste\n",
    "teste.shape"
   ]
  },
  {
   "cell_type": "markdown",
   "id": "5fef14bd",
   "metadata": {},
   "source": [
    "<p style='text-align: right;'><a href=\"#index\">Voltar</a></p>"
   ]
  },
  {
   "cell_type": "markdown",
   "id": "3ebd9ba9",
   "metadata": {},
   "source": [
    "<a id=FireplaceQu></a>\n",
    "- **Agora analisando a coluna <font color='blue'>FireplaceQu</font>**\n",
    "- Temos 2 colunas relacionadas a lareiras:\n",
    "    - **Fireplaces**: Number of fireplaces\n",
    "    - **FireplaceQu**: Fireplace quality"
   ]
  },
  {
   "cell_type": "code",
   "execution_count": 11,
   "id": "8ba4d421",
   "metadata": {},
   "outputs": [
    {
     "data": {
      "text/plain": [
       "Fireplaces  FireplaceQu\n",
       "0           NaN            690\n",
       "1           Gd             324\n",
       "            TA             259\n",
       "2           Gd              54\n",
       "            TA              53\n",
       "1           Fa              28\n",
       "            Po              20\n",
       "            Ex              19\n",
       "2           Ex               4\n",
       "            Fa               4\n",
       "3           Gd               2\n",
       "            Ex               1\n",
       "            Fa               1\n",
       "            TA               1\n",
       "dtype: int64"
      ]
     },
     "execution_count": 11,
     "metadata": {},
     "output_type": "execute_result"
    }
   ],
   "source": [
    "# Visualizando a quantidade de registros em cada rótulo\n",
    "treino[['Fireplaces','FireplaceQu']].value_counts(dropna=False)"
   ]
  },
  {
   "cell_type": "markdown",
   "id": "6ae40d37",
   "metadata": {},
   "source": [
    "- Esse NaN também é uma informação, dizendo que **não existe lareira**"
   ]
  },
  {
   "cell_type": "code",
   "execution_count": 12,
   "id": "9ac35831",
   "metadata": {},
   "outputs": [],
   "source": [
    "# Ajustando essa coluna\n",
    "treino[['FireplaceQu']] = treino[['FireplaceQu']].fillna(-1)"
   ]
  },
  {
   "cell_type": "markdown",
   "id": "4991d40e",
   "metadata": {},
   "source": [
    "- Novamente fazendo o mesmo para a **<font color='blue'>base de teste</font>**"
   ]
  },
  {
   "cell_type": "code",
   "execution_count": 13,
   "id": "11281906",
   "metadata": {},
   "outputs": [
    {
     "data": {
      "text/plain": [
       "Fireplaces  FireplaceQu\n",
       "0           NaN            730\n",
       "1           Gd             303\n",
       "            TA             236\n",
       "2           Gd              58\n",
       "            TA              39\n",
       "1           Fa              35\n",
       "            Po              26\n",
       "            Ex              18\n",
       "2           Fa               6\n",
       "3           Gd               3\n",
       "            TA               3\n",
       "2           Ex               1\n",
       "4           TA               1\n",
       "dtype: int64"
      ]
     },
     "execution_count": 13,
     "metadata": {},
     "output_type": "execute_result"
    }
   ],
   "source": [
    "# Visualizando a quantidade de registros em cada rótulo\n",
    "teste[['Fireplaces','FireplaceQu']].value_counts(dropna=False)"
   ]
  },
  {
   "cell_type": "code",
   "execution_count": 14,
   "id": "73a5b0fd",
   "metadata": {},
   "outputs": [],
   "source": [
    "# Fazendo a transformação para a base de teste\n",
    "teste[['FireplaceQu']] = teste[['FireplaceQu']].fillna(-1)"
   ]
  },
  {
   "cell_type": "markdown",
   "id": "daadaf44",
   "metadata": {},
   "source": [
    "- **Visualizando novamente as informações de valores vazios**"
   ]
  },
  {
   "cell_type": "code",
   "execution_count": 15,
   "id": "21b8ccaf",
   "metadata": {},
   "outputs": [
    {
     "data": {
      "text/plain": [
       "LotFrontage     0.177397\n",
       "GarageFinish    0.055479\n",
       "GarageCond      0.055479\n",
       "GarageYrBlt     0.055479\n",
       "GarageQual      0.055479\n",
       "GarageType      0.055479\n",
       "BsmtFinType2    0.026027\n",
       "BsmtExposure    0.026027\n",
       "BsmtCond        0.025342\n",
       "BsmtFinType1    0.025342\n",
       "dtype: float64"
      ]
     },
     "execution_count": 15,
     "metadata": {},
     "output_type": "execute_result"
    }
   ],
   "source": [
    "# Calculando % a quantidade de valores vazios\n",
    "(treino.isnull().sum()/treino.shape[0]).sort_values(ascending=False).head(10)"
   ]
  },
  {
   "cell_type": "code",
   "execution_count": 16,
   "id": "d90705f8",
   "metadata": {},
   "outputs": [
    {
     "data": {
      "text/plain": [
       "LotFrontage     259\n",
       "GarageFinish     81\n",
       "GarageCond       81\n",
       "GarageYrBlt      81\n",
       "GarageQual       81\n",
       "GarageType       81\n",
       "BsmtFinType2     38\n",
       "BsmtExposure     38\n",
       "BsmtCond         37\n",
       "BsmtFinType1     37\n",
       "dtype: int64"
      ]
     },
     "execution_count": 16,
     "metadata": {},
     "output_type": "execute_result"
    }
   ],
   "source": [
    "# Verificando a quantidade de valores\n",
    "treino.isnull().sum().sort_values(ascending=False).head(10)"
   ]
  },
  {
   "cell_type": "markdown",
   "id": "8ad09906",
   "metadata": {},
   "source": [
    "<p style='text-align: right;'><a href=\"#index\">Voltar</a></p>"
   ]
  },
  {
   "cell_type": "markdown",
   "id": "e06901b6",
   "metadata": {},
   "source": [
    "<a id=LotFrontage></a>\n",
    "- **<font color='blue'>LotFrontage</font>: Pés lineares (medida de distância) de rua conectados à propriedade**"
   ]
  },
  {
   "cell_type": "code",
   "execution_count": 17,
   "id": "c7d5b036",
   "metadata": {},
   "outputs": [
    {
     "data": {
      "text/plain": [
       "Inside     134\n",
       "Corner      62\n",
       "CulDSac     49\n",
       "FR2         14\n",
       "Name: LotConfig, dtype: int64"
      ]
     },
     "execution_count": 17,
     "metadata": {},
     "output_type": "execute_result"
    }
   ],
   "source": [
    "# Entendendo os tipos de propriedades que possuem valor nulo\n",
    "treino.loc[treino.LotFrontage.isnull(),'LotConfig'].value_counts()"
   ]
  },
  {
   "cell_type": "code",
   "execution_count": 18,
   "id": "0b5d6a42",
   "metadata": {},
   "outputs": [
    {
     "data": {
      "text/plain": [
       "LotConfig\n",
       "Corner     84.039801\n",
       "CulDSac    59.911111\n",
       "FR2        63.515152\n",
       "FR3        70.750000\n",
       "Inside     67.715686\n",
       "Name: LotFrontage, dtype: float64"
      ]
     },
     "execution_count": 18,
     "metadata": {},
     "output_type": "execute_result"
    }
   ],
   "source": [
    "# Verificando a média por tipo de propriedade\n",
    "treino.groupby('LotConfig')['LotFrontage'].mean()"
   ]
  },
  {
   "cell_type": "markdown",
   "id": "83655058",
   "metadata": {},
   "source": [
    "- Nesse caso o valor vazio **parece um erro da base**"
   ]
  },
  {
   "cell_type": "code",
   "execution_count": 19,
   "id": "02a77ec6",
   "metadata": {},
   "outputs": [],
   "source": [
    "# Substituindo os valores vazios pela média em relação ao LotConfig\n",
    "treino['LotFrontage'] = treino['LotFrontage'].fillna(treino.groupby('LotConfig')['LotFrontage'].transform('mean'))"
   ]
  },
  {
   "cell_type": "markdown",
   "id": "2b1f4203",
   "metadata": {},
   "source": [
    "- Para a **<font color='blue'>base de teste</font>**"
   ]
  },
  {
   "cell_type": "code",
   "execution_count": 20,
   "id": "57936cd9",
   "metadata": {},
   "outputs": [],
   "source": [
    "# Fazendo para a base de teste\n",
    "teste['LotFrontage'] = teste['LotFrontage'].fillna(treino.groupby('LotConfig')['LotFrontage'].transform('mean'))"
   ]
  },
  {
   "cell_type": "markdown",
   "id": "791d3a80",
   "metadata": {},
   "source": [
    "<p style='text-align: right;'><a href=\"#index\">Voltar</a></p>"
   ]
  },
  {
   "cell_type": "markdown",
   "id": "8e5ff266",
   "metadata": {},
   "source": [
    "<a id=\"garagem\"></a>\n",
    "- **Avaliando as <font color='blue'>colunas de garagem</font>**\n",
    "    - **GarageType**: Garage location\n",
    "        - **NA: No Garage**\n",
    "    - **GarageYrBlt**: Year garage was built\n",
    "\t- **GarageFinish**: Interior finish of the garage\n",
    "        - **NA: No Garage**\t\t\n",
    "    - **GarageCars**: Size of garage in car capacity\n",
    "\t- **GarageArea**: Size of garage in square feet\n",
    "\t- **GarageQual**: Garage quality\n",
    "        - **NA: No Garage**\t\t\n",
    "\t- **GarageCond**: Garage condition\n",
    "        - **NA: No Garage**\t\t"
   ]
  },
  {
   "cell_type": "code",
   "execution_count": 21,
   "id": "c20403b2",
   "metadata": {},
   "outputs": [
    {
     "data": {
      "text/plain": [
       "Index(['GarageType', 'GarageYrBlt', 'GarageFinish', 'GarageCars', 'GarageArea',\n",
       "       'GarageQual', 'GarageCond'],\n",
       "      dtype='object')"
      ]
     },
     "execution_count": 21,
     "metadata": {},
     "output_type": "execute_result"
    }
   ],
   "source": [
    "# Verificando as colunas que possuem garagem no nome\n",
    "col_garagem = treino.columns[treino.columns.str.contains(\"Garage\")]\n",
    "col_garagem"
   ]
  },
  {
   "cell_type": "code",
   "execution_count": 22,
   "id": "e3076fa9",
   "metadata": {},
   "outputs": [
    {
     "data": {
      "text/plain": [
       "GarageType  GarageYrBlt  GarageFinish  GarageCars  GarageArea  GarageQual  GarageCond\n",
       "NaN         NaN          NaN           0           0           NaN         NaN           81\n",
       "dtype: int64"
      ]
     },
     "execution_count": 22,
     "metadata": {},
     "output_type": "execute_result"
    }
   ],
   "source": [
    "# Filtrando a base\n",
    "treino.loc[treino.GarageType.isnull(),col_garagem].value_counts(dropna=False)"
   ]
  },
  {
   "cell_type": "markdown",
   "id": "78deb42a",
   "metadata": {},
   "source": [
    "- **O NaN em todas essas colunas é que não existe garagem**"
   ]
  },
  {
   "cell_type": "code",
   "execution_count": 23,
   "id": "eea18ff7",
   "metadata": {},
   "outputs": [
    {
     "data": {
      "text/html": [
       "<div>\n",
       "<style scoped>\n",
       "    .dataframe tbody tr th:only-of-type {\n",
       "        vertical-align: middle;\n",
       "    }\n",
       "\n",
       "    .dataframe tbody tr th {\n",
       "        vertical-align: top;\n",
       "    }\n",
       "\n",
       "    .dataframe thead th {\n",
       "        text-align: right;\n",
       "    }\n",
       "</style>\n",
       "<table border=\"1\" class=\"dataframe\">\n",
       "  <thead>\n",
       "    <tr style=\"text-align: right;\">\n",
       "      <th></th>\n",
       "      <th>GarageType</th>\n",
       "      <th>GarageYrBlt</th>\n",
       "      <th>GarageFinish</th>\n",
       "      <th>GarageQual</th>\n",
       "      <th>GarageCond</th>\n",
       "    </tr>\n",
       "  </thead>\n",
       "  <tbody>\n",
       "    <tr>\n",
       "      <th>39</th>\n",
       "      <td>NaN</td>\n",
       "      <td>NaN</td>\n",
       "      <td>NaN</td>\n",
       "      <td>NaN</td>\n",
       "      <td>NaN</td>\n",
       "    </tr>\n",
       "    <tr>\n",
       "      <th>48</th>\n",
       "      <td>NaN</td>\n",
       "      <td>NaN</td>\n",
       "      <td>NaN</td>\n",
       "      <td>NaN</td>\n",
       "      <td>NaN</td>\n",
       "    </tr>\n",
       "    <tr>\n",
       "      <th>78</th>\n",
       "      <td>NaN</td>\n",
       "      <td>NaN</td>\n",
       "      <td>NaN</td>\n",
       "      <td>NaN</td>\n",
       "      <td>NaN</td>\n",
       "    </tr>\n",
       "  </tbody>\n",
       "</table>\n",
       "</div>"
      ],
      "text/plain": [
       "   GarageType  GarageYrBlt GarageFinish GarageQual GarageCond\n",
       "39        NaN          NaN          NaN        NaN        NaN\n",
       "48        NaN          NaN          NaN        NaN        NaN\n",
       "78        NaN          NaN          NaN        NaN        NaN"
      ]
     },
     "execution_count": 23,
     "metadata": {},
     "output_type": "execute_result"
    }
   ],
   "source": [
    "# Podemos selecionar apenas as colunas vazias\n",
    "treino.loc[treino.GarageType.isnull(),col_garagem[[0,1,2,5,6]]].head(3)"
   ]
  },
  {
   "cell_type": "code",
   "execution_count": 24,
   "id": "3561f167",
   "metadata": {},
   "outputs": [
    {
     "data": {
      "text/plain": [
       "GarageType  GarageYrBlt  GarageFinish  GarageQual  GarageCond\n",
       "NaN         NaN          NaN           NaN         NaN           81\n",
       "dtype: int64"
      ]
     },
     "execution_count": 24,
     "metadata": {},
     "output_type": "execute_result"
    }
   ],
   "source": [
    "# Verificando os valores\n",
    "treino.loc[treino.GarageType.isnull(),col_garagem[[0,1,2,5,6]]].value_counts(dropna=False)"
   ]
  },
  {
   "cell_type": "code",
   "execution_count": 25,
   "id": "ed7e39bd",
   "metadata": {},
   "outputs": [],
   "source": [
    "# E substituir esses valores por -1\n",
    "treino.loc[treino.GarageType.isnull(),col_garagem[[0,1,2,5,6]]] = -1"
   ]
  },
  {
   "cell_type": "code",
   "execution_count": 26,
   "id": "d36e146c",
   "metadata": {},
   "outputs": [
    {
     "data": {
      "text/plain": [
       "GarageType  GarageYrBlt  GarageFinish  GarageCars  GarageArea  GarageQual  GarageCond\n",
       "-1          -1.0         -1            0           0           -1          -1            81\n",
       "dtype: int64"
      ]
     },
     "execution_count": 26,
     "metadata": {},
     "output_type": "execute_result"
    }
   ],
   "source": [
    "# Verificando novamente quando a quantidade de carros é igual a 0\n",
    "treino.loc[treino.GarageCars == 0,col_garagem].value_counts(dropna=False)"
   ]
  },
  {
   "cell_type": "code",
   "execution_count": 27,
   "id": "7358f05a",
   "metadata": {},
   "outputs": [
    {
     "data": {
      "text/plain": [
       "BsmtExposure    38\n",
       "BsmtFinType2    38\n",
       "BsmtFinType1    37\n",
       "BsmtQual        37\n",
       "BsmtCond        37\n",
       "MasVnrType       8\n",
       "MasVnrArea       8\n",
       "Electrical       1\n",
       "FireplaceQu      0\n",
       "dtype: int64"
      ]
     },
     "execution_count": 27,
     "metadata": {},
     "output_type": "execute_result"
    }
   ],
   "source": [
    "# Resumindo os valores vazios da base de treino\n",
    "treino.isnull().sum().sort_values(ascending=False).head(9)"
   ]
  },
  {
   "cell_type": "markdown",
   "id": "d51d543d",
   "metadata": {},
   "source": [
    "- Para a **<font color='blue'>base de teste</font>**"
   ]
  },
  {
   "cell_type": "code",
   "execution_count": 28,
   "id": "3dafd005",
   "metadata": {},
   "outputs": [
    {
     "data": {
      "text/plain": [
       "GarageType  GarageYrBlt  GarageFinish  GarageCars  GarageArea  GarageQual  GarageCond\n",
       "NaN         NaN          NaN           0.0         0.0         NaN         NaN           76\n",
       "Detchd      NaN          NaN           1.0         360.0       NaN         NaN            1\n",
       "                                       NaN         NaN         NaN         NaN            1\n",
       "dtype: int64"
      ]
     },
     "execution_count": 28,
     "metadata": {},
     "output_type": "execute_result"
    }
   ],
   "source": [
    "# Verificando os valores\n",
    "teste.loc[teste.GarageCond.isnull(),col_garagem].value_counts(dropna=False)"
   ]
  },
  {
   "cell_type": "markdown",
   "id": "f769ad2f",
   "metadata": {},
   "source": [
    "- Tratando a linha onde GarageCars é zero e tudo é vazio"
   ]
  },
  {
   "cell_type": "code",
   "execution_count": 29,
   "id": "10984890",
   "metadata": {},
   "outputs": [
    {
     "data": {
      "text/plain": [
       "GarageType  GarageYrBlt  GarageFinish  GarageQual  GarageCond\n",
       "NaN         NaN          NaN           NaN         NaN           76\n",
       "dtype: int64"
      ]
     },
     "execution_count": 29,
     "metadata": {},
     "output_type": "execute_result"
    }
   ],
   "source": [
    "# Analisando a condição de GarageType ser nulo\n",
    "teste.loc[teste.GarageType.isnull(),col_garagem[[0,1,2,5,6]]].value_counts(dropna=False)"
   ]
  },
  {
   "cell_type": "code",
   "execution_count": 30,
   "id": "a01ad3db",
   "metadata": {},
   "outputs": [],
   "source": [
    "# E substituir esses valores por -1\n",
    "teste.loc[teste.GarageType.isnull(),col_garagem[[0,1,2,5,6]]] = -1"
   ]
  },
  {
   "cell_type": "markdown",
   "id": "d812a967",
   "metadata": {},
   "source": [
    "- Agora vamos entender as colunas com tudo vazio mas GarageType = \"Detchd\""
   ]
  },
  {
   "cell_type": "code",
   "execution_count": 31,
   "id": "669e3be4",
   "metadata": {},
   "outputs": [
    {
     "data": {
      "text/html": [
       "<div>\n",
       "<style scoped>\n",
       "    .dataframe tbody tr th:only-of-type {\n",
       "        vertical-align: middle;\n",
       "    }\n",
       "\n",
       "    .dataframe tbody tr th {\n",
       "        vertical-align: top;\n",
       "    }\n",
       "\n",
       "    .dataframe thead th {\n",
       "        text-align: right;\n",
       "    }\n",
       "</style>\n",
       "<table border=\"1\" class=\"dataframe\">\n",
       "  <thead>\n",
       "    <tr style=\"text-align: right;\">\n",
       "      <th></th>\n",
       "      <th>GarageType</th>\n",
       "      <th>GarageYrBlt</th>\n",
       "      <th>GarageFinish</th>\n",
       "      <th>GarageCars</th>\n",
       "      <th>GarageArea</th>\n",
       "      <th>GarageQual</th>\n",
       "      <th>GarageCond</th>\n",
       "    </tr>\n",
       "  </thead>\n",
       "  <tbody>\n",
       "    <tr>\n",
       "      <th>666</th>\n",
       "      <td>Detchd</td>\n",
       "      <td>NaN</td>\n",
       "      <td>NaN</td>\n",
       "      <td>1.0</td>\n",
       "      <td>360.0</td>\n",
       "      <td>NaN</td>\n",
       "      <td>NaN</td>\n",
       "    </tr>\n",
       "    <tr>\n",
       "      <th>1116</th>\n",
       "      <td>Detchd</td>\n",
       "      <td>NaN</td>\n",
       "      <td>NaN</td>\n",
       "      <td>NaN</td>\n",
       "      <td>NaN</td>\n",
       "      <td>NaN</td>\n",
       "      <td>NaN</td>\n",
       "    </tr>\n",
       "  </tbody>\n",
       "</table>\n",
       "</div>"
      ],
      "text/plain": [
       "     GarageType  GarageYrBlt GarageFinish  GarageCars  GarageArea GarageQual  \\\n",
       "666      Detchd          NaN          NaN         1.0       360.0        NaN   \n",
       "1116     Detchd          NaN          NaN         NaN         NaN        NaN   \n",
       "\n",
       "     GarageCond  \n",
       "666         NaN  \n",
       "1116        NaN  "
      ]
     },
     "execution_count": 31,
     "metadata": {},
     "output_type": "execute_result"
    }
   ],
   "source": [
    "# Entendendo essas colunas\n",
    "teste.loc[teste.GarageCond.isnull(),col_garagem]"
   ]
  },
  {
   "cell_type": "markdown",
   "id": "b845ae7d",
   "metadata": {},
   "source": [
    "- Analisando a coluna GarageYrBlt"
   ]
  },
  {
   "cell_type": "code",
   "execution_count": 32,
   "id": "638413f4",
   "metadata": {},
   "outputs": [
    {
     "name": "stderr",
     "output_type": "stream",
     "text": [
      "C:\\Users\\Daniel\\AppData\\Local\\Temp\\ipykernel_16592\\747343904.py:3: FutureWarning: The default value of numeric_only in DataFrame.corr is deprecated. In a future version, it will default to False. Select only valid columns or specify the value of numeric_only to silence this warning.\n",
      "  teste2.corr()['GarageYrBlt'].sort_values(ascending=False).head(3)\n"
     ]
    },
    {
     "data": {
      "text/plain": [
       "GarageYrBlt    1.000000\n",
       "YearBuilt      0.615951\n",
       "GarageArea     0.494670\n",
       "Name: GarageYrBlt, dtype: float64"
      ]
     },
     "execution_count": 32,
     "metadata": {},
     "output_type": "execute_result"
    }
   ],
   "source": [
    "# Vamos verificar os valores quando GarageType == \"Detchd\"\n",
    "teste2 = teste.loc[(teste.GarageType == 'Detchd') & (teste.GarageYrBlt != -1)]\n",
    "teste2.corr()['GarageYrBlt'].sort_values(ascending=False).head(3)"
   ]
  },
  {
   "cell_type": "code",
   "execution_count": 33,
   "id": "4b1e7fcb",
   "metadata": {},
   "outputs": [
    {
     "data": {
      "image/png": "[encoded data removed]",
      "text/plain": [
       "<Figure size 640x480 with 1 Axes>"
      ]
     },
     "metadata": {},
     "output_type": "display_data"
    }
   ],
   "source": [
    "# Visualizando essa correlação\n",
    "fig, ax = plt.subplots()\n",
    "\n",
    "ax.scatter(teste2.GarageYrBlt,teste2.YearBuilt)\n",
    "\n",
    "plt.show()"
   ]
  },
  {
   "cell_type": "code",
   "execution_count": 34,
   "id": "659f8dd2",
   "metadata": {},
   "outputs": [
    {
     "data": {
      "text/plain": [
       "True     1127\n",
       "False     332\n",
       "Name: CheckAnos, dtype: int64"
      ]
     },
     "execution_count": 34,
     "metadata": {},
     "output_type": "execute_result"
    }
   ],
   "source": [
    "# Verificando a nova coluna\n",
    "teste['CheckAnos'] = teste.GarageYrBlt == teste.YearBuilt\n",
    "teste.CheckAnos.value_counts()"
   ]
  },
  {
   "cell_type": "code",
   "execution_count": 35,
   "id": "0d2a327e",
   "metadata": {},
   "outputs": [],
   "source": [
    "# Apagando essa coluna\n",
    "teste = teste.drop('CheckAnos',axis=1)"
   ]
  },
  {
   "cell_type": "code",
   "execution_count": 36,
   "id": "45f9a280",
   "metadata": {},
   "outputs": [
    {
     "data": {
      "text/plain": [
       "666     1910\n",
       "1116    1923\n",
       "Name: YearBuilt, dtype: int64"
      ]
     },
     "execution_count": 36,
     "metadata": {},
     "output_type": "execute_result"
    }
   ],
   "source": [
    "# Verificando os valores de construção da casa\n",
    "teste.loc[teste.GarageCond.isnull(),'YearBuilt']"
   ]
  },
  {
   "cell_type": "code",
   "execution_count": 37,
   "id": "49eab408",
   "metadata": {},
   "outputs": [],
   "source": [
    "# Substituindo as colunas vazias pelo ano de construção da casa\n",
    "teste.loc[teste.GarageCond.isnull(),'GarageYrBlt'] = teste.loc[teste.GarageCond.isnull(),'YearBuilt']"
   ]
  },
  {
   "cell_type": "markdown",
   "id": "82d4c14f",
   "metadata": {},
   "source": [
    "- E a coluna GarageFinish"
   ]
  },
  {
   "cell_type": "code",
   "execution_count": 38,
   "id": "c6bdf53f",
   "metadata": {},
   "outputs": [
    {
     "data": {
      "text/plain": [
       "Unf    365\n",
       "RFn     15\n",
       "Fin     10\n",
       "Name: GarageFinish, dtype: int64"
      ]
     },
     "execution_count": 38,
     "metadata": {},
     "output_type": "execute_result"
    }
   ],
   "source": [
    "# Verificando os valores mais frequentes\n",
    "teste.loc[(teste.GarageType == 'Detchd'),'GarageFinish'].value_counts()"
   ]
  },
  {
   "cell_type": "code",
   "execution_count": 39,
   "id": "fab9ec42",
   "metadata": {},
   "outputs": [
    {
     "data": {
      "text/plain": [
       "'Unf'"
      ]
     },
     "execution_count": 39,
     "metadata": {},
     "output_type": "execute_result"
    }
   ],
   "source": [
    "# Vamos verificar os valores quando GarageType == \"Detchd\"\n",
    "moda_GarageFinish = teste.loc[(teste.GarageType == 'Detchd'),'GarageFinish'].mode()[0]\n",
    "moda_GarageFinish"
   ]
  },
  {
   "cell_type": "code",
   "execution_count": 40,
   "id": "41f5adf0",
   "metadata": {},
   "outputs": [],
   "source": [
    "# Podemos substituir pelo valor mais frequente\n",
    "teste.loc[(teste.GarageType == 'Detchd') & (teste.GarageFinish.isnull()),'GarageFinish'] = moda_GarageFinish"
   ]
  },
  {
   "cell_type": "markdown",
   "id": "c9f6a77d",
   "metadata": {},
   "source": [
    "- Fazendo o mesmo para GarageQual e GarageCond"
   ]
  },
  {
   "cell_type": "code",
   "execution_count": 41,
   "id": "384d1330",
   "metadata": {},
   "outputs": [
    {
     "data": {
      "text/plain": [
       "GarageQual  GarageCond\n",
       "TA          TA            309\n",
       "Fa          TA             38\n",
       "            Fa             19\n",
       "TA          Fa             16\n",
       "Fa          Po              3\n",
       "Gd          Ex              1\n",
       "Po          Fa              1\n",
       "            Po              1\n",
       "TA          Gd              1\n",
       "            Po              1\n",
       "dtype: int64"
      ]
     },
     "execution_count": 41,
     "metadata": {},
     "output_type": "execute_result"
    }
   ],
   "source": [
    "# Vamos verificar os valores quando GarageType == \"Detchd\"\n",
    "teste.loc[(teste.GarageType == 'Detchd'),['GarageQual','GarageCond']].value_counts()"
   ]
  },
  {
   "cell_type": "code",
   "execution_count": 42,
   "id": "73d3be4e",
   "metadata": {},
   "outputs": [
    {
     "name": "stdout",
     "output_type": "stream",
     "text": [
      "TA TA\n"
     ]
    }
   ],
   "source": [
    "# Podemos verificar a moda dessa coluna\n",
    "moda_GarageQual = teste.loc[(teste.GarageType == 'Detchd'),'GarageQual'].mode()[0]\n",
    "moda_GarageCond = teste.loc[(teste.GarageType == 'Detchd'),'GarageCond'].mode()[0]\n",
    "print(moda_GarageQual,moda_GarageCond)"
   ]
  },
  {
   "cell_type": "code",
   "execution_count": 43,
   "id": "2ae27cf6",
   "metadata": {},
   "outputs": [],
   "source": [
    "# E usar esse valor no GarageQual\n",
    "teste.loc[(teste.GarageType == 'Detchd') & (teste.GarageQual.isnull()),'GarageQual'] = moda_GarageQual"
   ]
  },
  {
   "cell_type": "code",
   "execution_count": 44,
   "id": "ee764b00",
   "metadata": {},
   "outputs": [],
   "source": [
    "# E fazer o mesmo para GarageCond\n",
    "teste.loc[(teste.GarageType == 'Detchd') & (teste.GarageCond.isnull()),'GarageCond'] = moda_GarageCond"
   ]
  },
  {
   "cell_type": "markdown",
   "id": "6a73edd0",
   "metadata": {},
   "source": [
    "- Para finalizar as colunas de garagem, vamos tratar GarageCars e GarageArea"
   ]
  },
  {
   "cell_type": "code",
   "execution_count": 45,
   "id": "99ce4ee1",
   "metadata": {},
   "outputs": [
    {
     "data": {
      "text/plain": [
       "GarageCars      1.519182\n",
       "GarageArea    412.202046\n",
       "dtype: float64"
      ]
     },
     "execution_count": 45,
     "metadata": {},
     "output_type": "execute_result"
    }
   ],
   "source": [
    "# Agora vamos visualizar a média desses valores quando GarageType == \"Detchd\"\n",
    "media_carros = teste.loc[(teste.GarageType == 'Detchd'),['GarageCars','GarageArea']].mean()\n",
    "media_carros"
   ]
  },
  {
   "cell_type": "code",
   "execution_count": 46,
   "id": "a3044c6b",
   "metadata": {},
   "outputs": [
    {
     "data": {
      "text/plain": [
       "array([  2., 412.])"
      ]
     },
     "execution_count": 46,
     "metadata": {},
     "output_type": "execute_result"
    }
   ],
   "source": [
    "# Como Não podemos ter meio carro, vamos arredondar os valores\n",
    "media_carros = round(media_carros,0)\n",
    "media_carros.values"
   ]
  },
  {
   "cell_type": "code",
   "execution_count": 47,
   "id": "1409e0ff",
   "metadata": {},
   "outputs": [],
   "source": [
    "# Podemos usar esses valores se a média for vazia\n",
    "teste.loc[(teste.GarageType == 'Detchd'),['GarageCars','GarageArea']] = media_carros.values"
   ]
  },
  {
   "cell_type": "code",
   "execution_count": 48,
   "id": "4f98758b",
   "metadata": {},
   "outputs": [
    {
     "data": {
      "text/html": [
       "<div>\n",
       "<style scoped>\n",
       "    .dataframe tbody tr th:only-of-type {\n",
       "        vertical-align: middle;\n",
       "    }\n",
       "\n",
       "    .dataframe tbody tr th {\n",
       "        vertical-align: top;\n",
       "    }\n",
       "\n",
       "    .dataframe thead th {\n",
       "        text-align: right;\n",
       "    }\n",
       "</style>\n",
       "<table border=\"1\" class=\"dataframe\">\n",
       "  <thead>\n",
       "    <tr style=\"text-align: right;\">\n",
       "      <th></th>\n",
       "      <th>Functional</th>\n",
       "      <th>Fireplaces</th>\n",
       "      <th>FireplaceQu</th>\n",
       "      <th>GarageType</th>\n",
       "      <th>GarageYrBlt</th>\n",
       "      <th>GarageFinish</th>\n",
       "      <th>GarageCars</th>\n",
       "      <th>GarageArea</th>\n",
       "      <th>GarageQual</th>\n",
       "      <th>GarageCond</th>\n",
       "      <th>PavedDrive</th>\n",
       "      <th>WoodDeckSF</th>\n",
       "      <th>OpenPorchSF</th>\n",
       "      <th>EnclosedPorch</th>\n",
       "      <th>3SsnPorch</th>\n",
       "    </tr>\n",
       "  </thead>\n",
       "  <tbody>\n",
       "    <tr>\n",
       "      <th>666</th>\n",
       "      <td>Typ</td>\n",
       "      <td>0</td>\n",
       "      <td>-1</td>\n",
       "      <td>Detchd</td>\n",
       "      <td>1910.0</td>\n",
       "      <td>Unf</td>\n",
       "      <td>2.0</td>\n",
       "      <td>412.0</td>\n",
       "      <td>TA</td>\n",
       "      <td>TA</td>\n",
       "      <td>Y</td>\n",
       "      <td>64</td>\n",
       "      <td>0</td>\n",
       "      <td>180</td>\n",
       "      <td>0</td>\n",
       "    </tr>\n",
       "    <tr>\n",
       "      <th>1116</th>\n",
       "      <td>Typ</td>\n",
       "      <td>0</td>\n",
       "      <td>-1</td>\n",
       "      <td>Detchd</td>\n",
       "      <td>1923.0</td>\n",
       "      <td>Unf</td>\n",
       "      <td>2.0</td>\n",
       "      <td>412.0</td>\n",
       "      <td>TA</td>\n",
       "      <td>TA</td>\n",
       "      <td>Y</td>\n",
       "      <td>174</td>\n",
       "      <td>0</td>\n",
       "      <td>212</td>\n",
       "      <td>0</td>\n",
       "    </tr>\n",
       "  </tbody>\n",
       "</table>\n",
       "</div>"
      ],
      "text/plain": [
       "     Functional  Fireplaces FireplaceQu GarageType  GarageYrBlt GarageFinish  \\\n",
       "666         Typ           0          -1     Detchd       1910.0          Unf   \n",
       "1116        Typ           0          -1     Detchd       1923.0          Unf   \n",
       "\n",
       "      GarageCars  GarageArea GarageQual GarageCond PavedDrive  WoodDeckSF  \\\n",
       "666          2.0       412.0         TA         TA          Y          64   \n",
       "1116         2.0       412.0         TA         TA          Y         174   \n",
       "\n",
       "      OpenPorchSF  EnclosedPorch  3SsnPorch  \n",
       "666             0            180          0  \n",
       "1116            0            212          0  "
      ]
     },
     "execution_count": 48,
     "metadata": {},
     "output_type": "execute_result"
    }
   ],
   "source": [
    "# Visualizando os tratamentos feitos\n",
    "teste.iloc[[666,1116],55:70]"
   ]
  },
  {
   "cell_type": "code",
   "execution_count": 49,
   "id": "cb11407f",
   "metadata": {},
   "outputs": [
    {
     "data": {
      "text/plain": [
       "BsmtCond        45\n",
       "BsmtQual        44\n",
       "BsmtExposure    44\n",
       "BsmtFinType1    42\n",
       "BsmtFinType2    42\n",
       "MasVnrType      16\n",
       "MasVnrArea      15\n",
       "MSZoning         4\n",
       "BsmtFullBath     2\n",
       "Utilities        2\n",
       "dtype: int64"
      ]
     },
     "execution_count": 49,
     "metadata": {},
     "output_type": "execute_result"
    }
   ],
   "source": [
    "# Resumindo os valores vazios da base de teste\n",
    "teste.isnull().sum().sort_values(ascending=False).head(10)"
   ]
  },
  {
   "cell_type": "markdown",
   "id": "6c7d6a5e",
   "metadata": {},
   "source": [
    "<p style='text-align: right;'><a href=\"#index\">Voltar</a></p>"
   ]
  },
  {
   "cell_type": "markdown",
   "id": "64550183",
   "metadata": {},
   "source": [
    "<a id=\"porao\"></a>\n",
    "- **E fazendo a mesma coisa para as <font color='blue'>colunas de Porão</font>**\n",
    "    - **NA: No Basement**"
   ]
  },
  {
   "cell_type": "code",
   "execution_count": 50,
   "id": "17c06923",
   "metadata": {},
   "outputs": [
    {
     "data": {
      "text/plain": [
       "Index(['BsmtQual', 'BsmtCond', 'BsmtExposure', 'BsmtFinType1', 'BsmtFinType2'], dtype='object')"
      ]
     },
     "execution_count": 50,
     "metadata": {},
     "output_type": "execute_result"
    }
   ],
   "source": [
    "# Verificando as colunas que possuem porão no nome e possuem valores vazios\n",
    "col_porao = treino.columns[treino.columns.str.contains(\"Bsmt\") & (treino.isnull().any())]\n",
    "col_porao"
   ]
  },
  {
   "cell_type": "code",
   "execution_count": 51,
   "id": "cf3799d6",
   "metadata": {},
   "outputs": [
    {
     "data": {
      "text/plain": [
       "BsmtQual  BsmtCond  BsmtExposure  BsmtFinType1  BsmtFinType2\n",
       "NaN       NaN       NaN           NaN           NaN             37\n",
       "Gd        TA        No            GLQ           NaN              1\n",
       "dtype: int64"
      ]
     },
     "execution_count": 51,
     "metadata": {},
     "output_type": "execute_result"
    }
   ],
   "source": [
    "# Analisando os valores\n",
    "treino.loc[treino.BsmtFinType2.isnull(),col_porao].value_counts(dropna=False)"
   ]
  },
  {
   "cell_type": "code",
   "execution_count": 52,
   "id": "84a3f47f",
   "metadata": {},
   "outputs": [
    {
     "data": {
      "text/plain": [
       "BsmtFinType2  BsmtFinSF2\n",
       "NaN           0             37\n",
       "              479            1\n",
       "dtype: int64"
      ]
     },
     "execution_count": 52,
     "metadata": {},
     "output_type": "execute_result"
    }
   ],
   "source": [
    "treino.loc[treino.BsmtFinType2.isnull(),['BsmtFinType2','BsmtFinSF2']].value_counts(dropna=False)"
   ]
  },
  {
   "cell_type": "markdown",
   "id": "dba39409",
   "metadata": {},
   "source": [
    "- Primeiro tratando o valor BsmtFinType2"
   ]
  },
  {
   "cell_type": "code",
   "execution_count": 53,
   "id": "acb5c310",
   "metadata": {},
   "outputs": [
    {
     "data": {
      "text/plain": [
       "'Unf'"
      ]
     },
     "execution_count": 53,
     "metadata": {},
     "output_type": "execute_result"
    }
   ],
   "source": [
    "# Verificando os dados na mesma condição\n",
    "moda_BsmtFinType2 = treino.BsmtFinType2.mode()[0]\n",
    "moda_BsmtFinType2"
   ]
  },
  {
   "cell_type": "code",
   "execution_count": 54,
   "id": "f5e976f9",
   "metadata": {},
   "outputs": [],
   "source": [
    "# Substituindo esse valor por Unf\n",
    "treino.loc[(treino.BsmtFinType2.isnull()) & (treino.BsmtFinSF2 != 0),['BsmtFinType2']] = moda_BsmtFinType2"
   ]
  },
  {
   "cell_type": "markdown",
   "id": "057d30f9",
   "metadata": {},
   "source": [
    "- Agora considerando as colunas que BsmtQual e BsmtCond são vazias"
   ]
  },
  {
   "cell_type": "code",
   "execution_count": 55,
   "id": "0b7acabc",
   "metadata": {},
   "outputs": [
    {
     "data": {
      "text/plain": [
       "BsmtQual  BsmtCond  BsmtExposure  BsmtFinType1  BsmtFinType2\n",
       "NaN       NaN       NaN           NaN           NaN             37\n",
       "dtype: int64"
      ]
     },
     "execution_count": 55,
     "metadata": {},
     "output_type": "execute_result"
    }
   ],
   "source": [
    "# Verificando os valores com BsmtQual vazio\n",
    "treino.loc[treino.BsmtQual.isnull(),col_porao].value_counts(dropna=False)"
   ]
  },
  {
   "cell_type": "code",
   "execution_count": 56,
   "id": "5a33302e",
   "metadata": {},
   "outputs": [],
   "source": [
    "# Substituindo os valores sem porão por -1\n",
    "treino.loc[treino.BsmtQual.isnull(),col_porao] = -1"
   ]
  },
  {
   "cell_type": "code",
   "execution_count": 57,
   "id": "04b19280",
   "metadata": {},
   "outputs": [
    {
     "data": {
      "text/plain": [
       "MasVnrType      8\n",
       "MasVnrArea      8\n",
       "BsmtExposure    1\n",
       "Electrical      1\n",
       "KitchenAbvGr    0\n",
       "dtype: int64"
      ]
     },
     "execution_count": 57,
     "metadata": {},
     "output_type": "execute_result"
    }
   ],
   "source": [
    "# Visualizando os valores vazios\n",
    "treino.isnull().sum().sort_values(ascending=False).head(5)"
   ]
  },
  {
   "cell_type": "markdown",
   "id": "1d9274d3",
   "metadata": {},
   "source": [
    "- E agora analisando o BsmtExposure"
   ]
  },
  {
   "cell_type": "code",
   "execution_count": 58,
   "id": "0324f6c8",
   "metadata": {},
   "outputs": [
    {
     "data": {
      "text/plain": [
       "No    953\n",
       "Av    221\n",
       "Gd    134\n",
       "Mn    114\n",
       "-1     37\n",
       "Name: BsmtExposure, dtype: int64"
      ]
     },
     "execution_count": 58,
     "metadata": {},
     "output_type": "execute_result"
    }
   ],
   "source": [
    "# Analisando os valores\n",
    "treino.BsmtExposure.value_counts()"
   ]
  },
  {
   "cell_type": "code",
   "execution_count": 59,
   "id": "18087fcc",
   "metadata": {},
   "outputs": [
    {
     "data": {
      "text/plain": [
       "'No'"
      ]
     },
     "execution_count": 59,
     "metadata": {},
     "output_type": "execute_result"
    }
   ],
   "source": [
    "# E novamente podemos ver o valor mais frequente\n",
    "moda_BsmtExposure = treino.BsmtExposure.mode()[0]\n",
    "moda_BsmtExposure"
   ]
  },
  {
   "cell_type": "code",
   "execution_count": 60,
   "id": "026a29a0",
   "metadata": {},
   "outputs": [],
   "source": [
    "# Substituindo esse valor por \"No\" (mais frequente)\n",
    "treino.loc[treino.BsmtExposure.isnull(),'BsmtExposure'] = moda_BsmtExposure"
   ]
  },
  {
   "cell_type": "markdown",
   "id": "edf90ed1",
   "metadata": {},
   "source": [
    "- O mesmo para **<font color='blue'>teste</font>**"
   ]
  },
  {
   "cell_type": "code",
   "execution_count": 61,
   "id": "a1d78684",
   "metadata": {},
   "outputs": [
    {
     "data": {
      "text/plain": [
       "Index(['BsmtQual', 'BsmtCond', 'BsmtExposure', 'BsmtFinType1', 'BsmtFinType2'], dtype='object')"
      ]
     },
     "execution_count": 61,
     "metadata": {},
     "output_type": "execute_result"
    }
   ],
   "source": [
    "# Visualizando as colunas vazias de porão da base de treino\n",
    "col_porao"
   ]
  },
  {
   "cell_type": "code",
   "execution_count": 62,
   "id": "74a00c26",
   "metadata": {},
   "outputs": [
    {
     "data": {
      "text/plain": [
       "Index(['BsmtQual', 'BsmtCond', 'BsmtExposure', 'BsmtFinType1', 'BsmtFinSF1',\n",
       "       'BsmtFinType2', 'BsmtFinSF2', 'BsmtUnfSF', 'TotalBsmtSF',\n",
       "       'BsmtFullBath', 'BsmtHalfBath'],\n",
       "      dtype='object')"
      ]
     },
     "execution_count": 62,
     "metadata": {},
     "output_type": "execute_result"
    }
   ],
   "source": [
    "# E agora visualizando para a base de teste\n",
    "col_porao_teste = teste.columns[teste.columns.str.contains(\"Bsmt\") & (teste.isnull().any())]\n",
    "col_porao_teste"
   ]
  },
  {
   "cell_type": "code",
   "execution_count": 63,
   "id": "248bb427",
   "metadata": {},
   "outputs": [
    {
     "data": {
      "text/plain": [
       "BsmtQual  BsmtCond  BsmtExposure  BsmtFinType1  BsmtFinSF1  BsmtFinType2  BsmtFinSF2  BsmtUnfSF  TotalBsmtSF  BsmtFullBath  BsmtHalfBath\n",
       "NaN       NaN       NaN           NaN           0.0         NaN           0.0         0.0        0.0          0.0           0.0             40\n",
       "          Fa        No            Unf           0.0         Unf           0.0         173.0      173.0        0.0           0.0              1\n",
       "          TA        No            Unf           0.0         Unf           0.0         356.0      356.0        0.0           0.0              1\n",
       "          NaN       NaN           NaN           0.0         NaN           0.0         0.0        0.0          NaN           NaN              1\n",
       "                                                NaN         NaN           NaN         NaN        NaN          NaN           NaN              1\n",
       "dtype: int64"
      ]
     },
     "execution_count": 63,
     "metadata": {},
     "output_type": "execute_result"
    }
   ],
   "source": [
    "# Analisando os valores\n",
    "teste.loc[teste.BsmtQual.isnull(),col_porao_teste].value_counts(dropna=False)"
   ]
  },
  {
   "cell_type": "markdown",
   "id": "0082bbee",
   "metadata": {},
   "source": [
    "- Começando a tratar a coluna BsmtQual"
   ]
  },
  {
   "cell_type": "code",
   "execution_count": 64,
   "id": "884fffe8",
   "metadata": {},
   "outputs": [
    {
     "data": {
      "text/html": [
       "<div>\n",
       "<style scoped>\n",
       "    .dataframe tbody tr th:only-of-type {\n",
       "        vertical-align: middle;\n",
       "    }\n",
       "\n",
       "    .dataframe tbody tr th {\n",
       "        vertical-align: top;\n",
       "    }\n",
       "\n",
       "    .dataframe thead th {\n",
       "        text-align: right;\n",
       "    }\n",
       "</style>\n",
       "<table border=\"1\" class=\"dataframe\">\n",
       "  <thead>\n",
       "    <tr style=\"text-align: right;\">\n",
       "      <th></th>\n",
       "      <th>BsmtQual</th>\n",
       "      <th>BsmtCond</th>\n",
       "      <th>BsmtExposure</th>\n",
       "      <th>BsmtFinType1</th>\n",
       "      <th>BsmtFinSF1</th>\n",
       "      <th>BsmtFinType2</th>\n",
       "      <th>BsmtFinSF2</th>\n",
       "      <th>BsmtUnfSF</th>\n",
       "      <th>TotalBsmtSF</th>\n",
       "      <th>BsmtFullBath</th>\n",
       "      <th>BsmtHalfBath</th>\n",
       "    </tr>\n",
       "  </thead>\n",
       "  <tbody>\n",
       "    <tr>\n",
       "      <th>757</th>\n",
       "      <td>NaN</td>\n",
       "      <td>Fa</td>\n",
       "      <td>No</td>\n",
       "      <td>Unf</td>\n",
       "      <td>0.0</td>\n",
       "      <td>Unf</td>\n",
       "      <td>0.0</td>\n",
       "      <td>173.0</td>\n",
       "      <td>173.0</td>\n",
       "      <td>0.0</td>\n",
       "      <td>0.0</td>\n",
       "    </tr>\n",
       "    <tr>\n",
       "      <th>758</th>\n",
       "      <td>NaN</td>\n",
       "      <td>TA</td>\n",
       "      <td>No</td>\n",
       "      <td>Unf</td>\n",
       "      <td>0.0</td>\n",
       "      <td>Unf</td>\n",
       "      <td>0.0</td>\n",
       "      <td>356.0</td>\n",
       "      <td>356.0</td>\n",
       "      <td>0.0</td>\n",
       "      <td>0.0</td>\n",
       "    </tr>\n",
       "  </tbody>\n",
       "</table>\n",
       "</div>"
      ],
      "text/plain": [
       "    BsmtQual BsmtCond BsmtExposure BsmtFinType1  BsmtFinSF1 BsmtFinType2  \\\n",
       "757      NaN       Fa           No          Unf         0.0          Unf   \n",
       "758      NaN       TA           No          Unf         0.0          Unf   \n",
       "\n",
       "     BsmtFinSF2  BsmtUnfSF  TotalBsmtSF  BsmtFullBath  BsmtHalfBath  \n",
       "757         0.0      173.0        173.0           0.0           0.0  \n",
       "758         0.0      356.0        356.0           0.0           0.0  "
      ]
     },
     "execution_count": 64,
     "metadata": {},
     "output_type": "execute_result"
    }
   ],
   "source": [
    "# Analisando essas linhas\n",
    "teste.loc[(teste.BsmtQual.isnull()) & (teste.BsmtCond.notnull()),col_porao_teste]"
   ]
  },
  {
   "cell_type": "code",
   "execution_count": 65,
   "id": "adf22264",
   "metadata": {},
   "outputs": [
    {
     "data": {
      "text/plain": [
       "'TA'"
      ]
     },
     "execution_count": 65,
     "metadata": {},
     "output_type": "execute_result"
    }
   ],
   "source": [
    "# Podemos verificar o valor mais frequente\n",
    "teste.BsmtQual.mode()[0]"
   ]
  },
  {
   "cell_type": "code",
   "execution_count": 66,
   "id": "85a45a37",
   "metadata": {},
   "outputs": [],
   "source": [
    "# E usar esse valor para substituir as linhas acima\n",
    "teste.loc[(teste.BsmtQual.isnull()) & (teste.BsmtCond.notnull()),'BsmtQual'] = teste.BsmtQual.mode()[0]"
   ]
  },
  {
   "cell_type": "code",
   "execution_count": 67,
   "id": "3813d469",
   "metadata": {},
   "outputs": [
    {
     "data": {
      "text/html": [
       "<div>\n",
       "<style scoped>\n",
       "    .dataframe tbody tr th:only-of-type {\n",
       "        vertical-align: middle;\n",
       "    }\n",
       "\n",
       "    .dataframe tbody tr th {\n",
       "        vertical-align: top;\n",
       "    }\n",
       "\n",
       "    .dataframe thead th {\n",
       "        text-align: right;\n",
       "    }\n",
       "</style>\n",
       "<table border=\"1\" class=\"dataframe\">\n",
       "  <thead>\n",
       "    <tr style=\"text-align: right;\">\n",
       "      <th></th>\n",
       "      <th>BsmtQual</th>\n",
       "      <th>BsmtCond</th>\n",
       "      <th>BsmtExposure</th>\n",
       "      <th>BsmtFinType1</th>\n",
       "      <th>BsmtFinSF1</th>\n",
       "      <th>BsmtFinType2</th>\n",
       "      <th>BsmtFinSF2</th>\n",
       "      <th>BsmtUnfSF</th>\n",
       "      <th>TotalBsmtSF</th>\n",
       "      <th>Heating</th>\n",
       "    </tr>\n",
       "  </thead>\n",
       "  <tbody>\n",
       "    <tr>\n",
       "      <th>757</th>\n",
       "      <td>TA</td>\n",
       "      <td>Fa</td>\n",
       "      <td>No</td>\n",
       "      <td>Unf</td>\n",
       "      <td>0.0</td>\n",
       "      <td>Unf</td>\n",
       "      <td>0.0</td>\n",
       "      <td>173.0</td>\n",
       "      <td>173.0</td>\n",
       "      <td>GasA</td>\n",
       "    </tr>\n",
       "    <tr>\n",
       "      <th>758</th>\n",
       "      <td>TA</td>\n",
       "      <td>TA</td>\n",
       "      <td>No</td>\n",
       "      <td>Unf</td>\n",
       "      <td>0.0</td>\n",
       "      <td>Unf</td>\n",
       "      <td>0.0</td>\n",
       "      <td>356.0</td>\n",
       "      <td>356.0</td>\n",
       "      <td>GasA</td>\n",
       "    </tr>\n",
       "  </tbody>\n",
       "</table>\n",
       "</div>"
      ],
      "text/plain": [
       "    BsmtQual BsmtCond BsmtExposure BsmtFinType1  BsmtFinSF1 BsmtFinType2  \\\n",
       "757       TA       Fa           No          Unf         0.0          Unf   \n",
       "758       TA       TA           No          Unf         0.0          Unf   \n",
       "\n",
       "     BsmtFinSF2  BsmtUnfSF  TotalBsmtSF Heating  \n",
       "757         0.0      173.0        173.0    GasA  \n",
       "758         0.0      356.0        356.0    GasA  "
      ]
     },
     "execution_count": 67,
     "metadata": {},
     "output_type": "execute_result"
    }
   ],
   "source": [
    "# Visualizando essas linhas\n",
    "teste.iloc[757:759,30:40]"
   ]
  },
  {
   "cell_type": "markdown",
   "id": "3e7c19ad",
   "metadata": {},
   "source": [
    "- Agora tratando as outras colunas"
   ]
  },
  {
   "cell_type": "code",
   "execution_count": 68,
   "id": "64aeba40",
   "metadata": {},
   "outputs": [
    {
     "data": {
      "text/plain": [
       "BsmtQual  BsmtCond  BsmtExposure  BsmtFinType1  BsmtFinSF1  BsmtFinType2  BsmtFinSF2  BsmtUnfSF  TotalBsmtSF  BsmtFullBath  BsmtHalfBath\n",
       "NaN       NaN       NaN           NaN           0.0         NaN           0.0         0.0        0.0          0.0           0.0             40\n",
       "                                                                                                              NaN           NaN              1\n",
       "                                                NaN         NaN           NaN         NaN        NaN          NaN           NaN              1\n",
       "dtype: int64"
      ]
     },
     "execution_count": 68,
     "metadata": {},
     "output_type": "execute_result"
    }
   ],
   "source": [
    "# Visualizando\n",
    "teste.loc[teste.BsmtQual.isnull(),col_porao_teste].value_counts(dropna=False)"
   ]
  },
  {
   "cell_type": "code",
   "execution_count": 69,
   "id": "ef189c7f",
   "metadata": {},
   "outputs": [],
   "source": [
    "# Substituindo por 0 as colunas numéricas das casas que não possuem porão\n",
    "teste.loc[teste.BsmtQual.isnull(),['BsmtFinSF1','BsmtFinSF2','BsmtUnfSF','TotalBsmtSF','BsmtFullBath','BsmtHalfBath']] = 0"
   ]
  },
  {
   "cell_type": "code",
   "execution_count": 70,
   "id": "8a488d64",
   "metadata": {},
   "outputs": [],
   "source": [
    "# E por -1 as colunas de texto dessas casas\n",
    "teste.loc[teste.BsmtQual.isnull(),['BsmtQual','BsmtCond','BsmtExposure','BsmtFinType1','BsmtFinType2']] = -1"
   ]
  },
  {
   "cell_type": "code",
   "execution_count": 71,
   "id": "1e34da16",
   "metadata": {},
   "outputs": [
    {
     "data": {
      "text/plain": [
       "Series([], dtype: int64)"
      ]
     },
     "execution_count": 71,
     "metadata": {},
     "output_type": "execute_result"
    }
   ],
   "source": [
    "# Visualizando os valores vazios\n",
    "teste.loc[teste.BsmtQual.isnull(),col_porao_teste].value_counts(dropna=False)"
   ]
  },
  {
   "cell_type": "markdown",
   "id": "4deaa428",
   "metadata": {},
   "source": [
    "- Analisando o restante das colunas de porão"
   ]
  },
  {
   "cell_type": "code",
   "execution_count": 72,
   "id": "ca7b2c09",
   "metadata": {},
   "outputs": [
    {
     "data": {
      "text/plain": [
       "MasVnrType      16\n",
       "MasVnrArea      15\n",
       "MSZoning         4\n",
       "BsmtCond         3\n",
       "Utilities        2\n",
       "BsmtExposure     2\n",
       "Functional       2\n",
       "KitchenQual      1\n",
       "Exterior2nd      1\n",
       "Exterior1st      1\n",
       "dtype: int64"
      ]
     },
     "execution_count": 72,
     "metadata": {},
     "output_type": "execute_result"
    }
   ],
   "source": [
    "# Selecionando as colunas de porão ainda vazias\n",
    "teste.isnull().sum().sort_values(ascending=False).head(10)"
   ]
  },
  {
   "cell_type": "markdown",
   "id": "f1251ff0",
   "metadata": {},
   "source": [
    "- E começando por BsmtCond"
   ]
  },
  {
   "cell_type": "code",
   "execution_count": 73,
   "id": "7735d4fd",
   "metadata": {},
   "outputs": [
    {
     "data": {
      "text/plain": [
       "BsmtQual  BsmtCond  BsmtExposure  BsmtFinType1  BsmtFinSF1  BsmtFinType2  BsmtFinSF2  BsmtUnfSF  TotalBsmtSF  BsmtFullBath  BsmtHalfBath\n",
       "Gd        NaN       Mn            GLQ           1044.0      Rec           382.0       0.0        1426.0       1.0           0.0             1\n",
       "TA        NaN       Av            ALQ           755.0       Unf           0.0         240.0      995.0        0.0           0.0             1\n",
       "                    No            BLQ           1033.0      Unf           0.0         94.0       1127.0       0.0           1.0             1\n",
       "dtype: int64"
      ]
     },
     "execution_count": 73,
     "metadata": {},
     "output_type": "execute_result"
    }
   ],
   "source": [
    "# E visualizando BsmtCond na base\n",
    "teste.loc[teste.BsmtCond.isnull(),col_porao_teste].value_counts(dropna=False)"
   ]
  },
  {
   "cell_type": "code",
   "execution_count": 74,
   "id": "7c488276",
   "metadata": {},
   "outputs": [
    {
     "data": {
      "text/plain": [
       "'TA'"
      ]
     },
     "execution_count": 74,
     "metadata": {},
     "output_type": "execute_result"
    }
   ],
   "source": [
    "# Contando os valores nessa coluna\n",
    "teste.BsmtCond.mode()[0]"
   ]
  },
  {
   "cell_type": "code",
   "execution_count": 75,
   "id": "f5754e5a",
   "metadata": {},
   "outputs": [],
   "source": [
    "# Podemos usar a moda para substituir o valor\n",
    "teste.loc[teste.BsmtCond.isnull(),'BsmtCond'] = teste.BsmtCond.mode()[0]"
   ]
  },
  {
   "cell_type": "markdown",
   "id": "c8769225",
   "metadata": {},
   "source": [
    "- Precisamos entender também o BsmtExposure"
   ]
  },
  {
   "cell_type": "code",
   "execution_count": 76,
   "id": "25fa0344",
   "metadata": {},
   "outputs": [
    {
     "data": {
      "text/plain": [
       "BsmtQual  BsmtCond  BsmtExposure  BsmtFinType1  BsmtFinSF1  BsmtFinType2  BsmtFinSF2  BsmtUnfSF  TotalBsmtSF  BsmtFullBath  BsmtHalfBath\n",
       "Gd        TA        NaN           Unf           0.0         Unf           0.0         725.0      725.0        0.0           0.0             1\n",
       "                                                                                      1595.0     1595.0       0.0           0.0             1\n",
       "dtype: int64"
      ]
     },
     "execution_count": 76,
     "metadata": {},
     "output_type": "execute_result"
    }
   ],
   "source": [
    "# Visualizando na base\n",
    "teste.loc[teste.BsmtExposure.isnull(),col_porao_teste].value_counts(dropna=False)"
   ]
  },
  {
   "cell_type": "code",
   "execution_count": 77,
   "id": "c5708847",
   "metadata": {},
   "outputs": [],
   "source": [
    "# Trocando pelo valor mais frequente\n",
    "teste.loc[teste.BsmtExposure.isnull(),'BsmtExposure'] = teste.BsmtExposure.mode()[0]"
   ]
  },
  {
   "cell_type": "markdown",
   "id": "cda676a6",
   "metadata": {},
   "source": [
    "<p style='text-align: right;'><a href=\"#index\">Voltar</a></p>"
   ]
  },
  {
   "cell_type": "markdown",
   "id": "71bc9994",
   "metadata": {},
   "source": [
    "- **Voltando para os valores nulos**"
   ]
  },
  {
   "cell_type": "code",
   "execution_count": 78,
   "id": "ef8d57c1",
   "metadata": {},
   "outputs": [
    {
     "data": {
      "text/plain": [
       "MasVnrType      8\n",
       "MasVnrArea      8\n",
       "Electrical      1\n",
       "KitchenQual     0\n",
       "GarageYrBlt     0\n",
       "GarageType      0\n",
       "FireplaceQu     0\n",
       "Fireplaces      0\n",
       "Functional      0\n",
       "TotRmsAbvGrd    0\n",
       "dtype: int64"
      ]
     },
     "execution_count": 78,
     "metadata": {},
     "output_type": "execute_result"
    }
   ],
   "source": [
    "# Verificando a quantidade de valores na base de treino\n",
    "treino.isnull().sum().sort_values(ascending=False).head(10)"
   ]
  },
  {
   "cell_type": "markdown",
   "id": "7b2a2a58",
   "metadata": {},
   "source": [
    "<a id=\"restante\"></a>\n",
    "- Sendo as colunas:\n",
    "    - **<font color='blue'>MasVnrType</font>**: Tipo de cobertura de alvenaria\n",
    "        - **None: None**\n",
    "    - **<font color='blue'>MasVnrArea</font>**: Área de cobertura de alvenaria em pés quadrados\n",
    "    - **<font color='blue'>Electrical system</font>**: Sistema elétrico"
   ]
  },
  {
   "cell_type": "code",
   "execution_count": 79,
   "id": "db009a64",
   "metadata": {},
   "outputs": [
    {
     "data": {
      "text/html": [
       "<div>\n",
       "<style scoped>\n",
       "    .dataframe tbody tr th:only-of-type {\n",
       "        vertical-align: middle;\n",
       "    }\n",
       "\n",
       "    .dataframe tbody tr th {\n",
       "        vertical-align: top;\n",
       "    }\n",
       "\n",
       "    .dataframe thead th {\n",
       "        text-align: right;\n",
       "    }\n",
       "</style>\n",
       "<table border=\"1\" class=\"dataframe\">\n",
       "  <thead>\n",
       "    <tr style=\"text-align: right;\">\n",
       "      <th></th>\n",
       "      <th>MasVnrType</th>\n",
       "      <th>MasVnrArea</th>\n",
       "    </tr>\n",
       "  </thead>\n",
       "  <tbody>\n",
       "    <tr>\n",
       "      <th>234</th>\n",
       "      <td>NaN</td>\n",
       "      <td>NaN</td>\n",
       "    </tr>\n",
       "    <tr>\n",
       "      <th>529</th>\n",
       "      <td>NaN</td>\n",
       "      <td>NaN</td>\n",
       "    </tr>\n",
       "    <tr>\n",
       "      <th>650</th>\n",
       "      <td>NaN</td>\n",
       "      <td>NaN</td>\n",
       "    </tr>\n",
       "    <tr>\n",
       "      <th>936</th>\n",
       "      <td>NaN</td>\n",
       "      <td>NaN</td>\n",
       "    </tr>\n",
       "    <tr>\n",
       "      <th>973</th>\n",
       "      <td>NaN</td>\n",
       "      <td>NaN</td>\n",
       "    </tr>\n",
       "    <tr>\n",
       "      <th>977</th>\n",
       "      <td>NaN</td>\n",
       "      <td>NaN</td>\n",
       "    </tr>\n",
       "    <tr>\n",
       "      <th>1243</th>\n",
       "      <td>NaN</td>\n",
       "      <td>NaN</td>\n",
       "    </tr>\n",
       "    <tr>\n",
       "      <th>1278</th>\n",
       "      <td>NaN</td>\n",
       "      <td>NaN</td>\n",
       "    </tr>\n",
       "  </tbody>\n",
       "</table>\n",
       "</div>"
      ],
      "text/plain": [
       "     MasVnrType  MasVnrArea\n",
       "234         NaN         NaN\n",
       "529         NaN         NaN\n",
       "650         NaN         NaN\n",
       "936         NaN         NaN\n",
       "973         NaN         NaN\n",
       "977         NaN         NaN\n",
       "1243        NaN         NaN\n",
       "1278        NaN         NaN"
      ]
     },
     "execution_count": 79,
     "metadata": {},
     "output_type": "execute_result"
    }
   ],
   "source": [
    "# Verificando os valores vazios nas duas primeiras colunas\n",
    "treino.loc[treino.MasVnrType.isnull(),['MasVnrType','MasVnrArea']]"
   ]
  },
  {
   "cell_type": "code",
   "execution_count": 80,
   "id": "9b95fca5",
   "metadata": {},
   "outputs": [
    {
     "data": {
      "text/plain": [
       "'None'"
      ]
     },
     "execution_count": 80,
     "metadata": {},
     "output_type": "execute_result"
    }
   ],
   "source": [
    "# Verificando o valor mais frequente nessa coluna\n",
    "treino.MasVnrType.mode()[0]"
   ]
  },
  {
   "cell_type": "code",
   "execution_count": 81,
   "id": "1239c38a",
   "metadata": {},
   "outputs": [],
   "source": [
    "# Utilizando a moda para o valor dessa coluna\n",
    "treino.loc[treino.MasVnrType.isnull(),'MasVnrType'] = treino.MasVnrType.mode()[0]"
   ]
  },
  {
   "cell_type": "code",
   "execution_count": 82,
   "id": "451e1d1f",
   "metadata": {},
   "outputs": [
    {
     "data": {
      "text/plain": [
       "0.0      859\n",
       "1.0        2\n",
       "288.0      1\n",
       "344.0      1\n",
       "312.0      1\n",
       "Name: MasVnrArea, dtype: int64"
      ]
     },
     "execution_count": 82,
     "metadata": {},
     "output_type": "execute_result"
    }
   ],
   "source": [
    "# Verificando os valores onde MasVnrType são \"None\"\n",
    "treino.loc[treino.MasVnrType == 'None','MasVnrArea'].value_counts()"
   ]
  },
  {
   "cell_type": "code",
   "execution_count": 83,
   "id": "162729ec",
   "metadata": {},
   "outputs": [],
   "source": [
    "# E como, para MasVnrType igual a None temos que MasVnrArea é zero\n",
    "treino.loc[treino.MasVnrArea.isnull(),'MasVnrArea'] = 0"
   ]
  },
  {
   "cell_type": "markdown",
   "id": "2272477b",
   "metadata": {},
   "source": [
    "- **Avaliando a coluna de sistema elétrico**\n",
    "    - Essa coluna **não deveria aceitar um valor vazio**"
   ]
  },
  {
   "cell_type": "code",
   "execution_count": 84,
   "id": "0b2bc352",
   "metadata": {},
   "outputs": [
    {
     "data": {
      "text/plain": [
       "'SBrkr'"
      ]
     },
     "execution_count": 84,
     "metadata": {},
     "output_type": "execute_result"
    }
   ],
   "source": [
    "# Visualizando os valores em sistema elétrico\n",
    "treino.Electrical.mode()[0]"
   ]
  },
  {
   "cell_type": "markdown",
   "id": "643b72eb",
   "metadata": {},
   "source": [
    "- Uma opção seria pedir essa informação faltante, mas como não podemos fazer isso o que iremos fazer é ou considerar que ele será igual a maioria ou criar um novo rótulo como \"não informado\""
   ]
  },
  {
   "cell_type": "code",
   "execution_count": 85,
   "id": "1bc420d3",
   "metadata": {},
   "outputs": [],
   "source": [
    "# Considerando esse valor como SBrkr\n",
    "treino.loc[treino.Electrical.isnull(),'Electrical'] = treino.Electrical.mode()[0]"
   ]
  },
  {
   "cell_type": "code",
   "execution_count": 86,
   "id": "e7bf67d5",
   "metadata": {},
   "outputs": [
    {
     "data": {
      "text/plain": [
       "Id              0\n",
       "CentralAir      0\n",
       "GarageYrBlt     0\n",
       "GarageType      0\n",
       "FireplaceQu     0\n",
       "Fireplaces      0\n",
       "Functional      0\n",
       "TotRmsAbvGrd    0\n",
       "KitchenQual     0\n",
       "KitchenAbvGr    0\n",
       "dtype: int64"
      ]
     },
     "execution_count": 86,
     "metadata": {},
     "output_type": "execute_result"
    }
   ],
   "source": [
    "# Verificando valores vazios\n",
    "treino.isnull().sum().sort_values(ascending=False).head(10)"
   ]
  },
  {
   "cell_type": "markdown",
   "id": "e7839e68",
   "metadata": {},
   "source": [
    "- Observe que **a base de treino já foi totalmente tratada**"
   ]
  },
  {
   "cell_type": "markdown",
   "id": "2b30f723",
   "metadata": {},
   "source": [
    "- Para a **<font color='blue'>base de teste</font>**"
   ]
  },
  {
   "cell_type": "code",
   "execution_count": 87,
   "id": "b35f604c",
   "metadata": {},
   "outputs": [
    {
     "data": {
      "text/plain": [
       "MasVnrType      16\n",
       "MasVnrArea      15\n",
       "MSZoning         4\n",
       "Utilities        2\n",
       "Functional       2\n",
       "Exterior2nd      1\n",
       "SaleType         1\n",
       "Exterior1st      1\n",
       "KitchenQual      1\n",
       "TotRmsAbvGrd     0\n",
       "dtype: int64"
      ]
     },
     "execution_count": 87,
     "metadata": {},
     "output_type": "execute_result"
    }
   ],
   "source": [
    "# Verificando os valores vazios nas duas primeiras colunas\n",
    "teste.isnull().sum().sort_values(ascending=False).head(10)"
   ]
  },
  {
   "cell_type": "markdown",
   "id": "2d299472",
   "metadata": {},
   "source": [
    "- Vamos primeiro tratar o valor que possui MasVnrArea mas MasVnrType é vazio"
   ]
  },
  {
   "cell_type": "code",
   "execution_count": 88,
   "id": "2c384940",
   "metadata": {},
   "outputs": [
    {
     "data": {
      "text/html": [
       "<div>\n",
       "<style scoped>\n",
       "    .dataframe tbody tr th:only-of-type {\n",
       "        vertical-align: middle;\n",
       "    }\n",
       "\n",
       "    .dataframe tbody tr th {\n",
       "        vertical-align: top;\n",
       "    }\n",
       "\n",
       "    .dataframe thead th {\n",
       "        text-align: right;\n",
       "    }\n",
       "</style>\n",
       "<table border=\"1\" class=\"dataframe\">\n",
       "  <thead>\n",
       "    <tr style=\"text-align: right;\">\n",
       "      <th></th>\n",
       "      <th>MasVnrType</th>\n",
       "      <th>MasVnrArea</th>\n",
       "    </tr>\n",
       "  </thead>\n",
       "  <tbody>\n",
       "    <tr>\n",
       "      <th>231</th>\n",
       "      <td>NaN</td>\n",
       "      <td>NaN</td>\n",
       "    </tr>\n",
       "    <tr>\n",
       "      <th>246</th>\n",
       "      <td>NaN</td>\n",
       "      <td>NaN</td>\n",
       "    </tr>\n",
       "    <tr>\n",
       "      <th>422</th>\n",
       "      <td>NaN</td>\n",
       "      <td>NaN</td>\n",
       "    </tr>\n",
       "    <tr>\n",
       "      <th>532</th>\n",
       "      <td>NaN</td>\n",
       "      <td>NaN</td>\n",
       "    </tr>\n",
       "    <tr>\n",
       "      <th>544</th>\n",
       "      <td>NaN</td>\n",
       "      <td>NaN</td>\n",
       "    </tr>\n",
       "    <tr>\n",
       "      <th>581</th>\n",
       "      <td>NaN</td>\n",
       "      <td>NaN</td>\n",
       "    </tr>\n",
       "    <tr>\n",
       "      <th>851</th>\n",
       "      <td>NaN</td>\n",
       "      <td>NaN</td>\n",
       "    </tr>\n",
       "    <tr>\n",
       "      <th>865</th>\n",
       "      <td>NaN</td>\n",
       "      <td>NaN</td>\n",
       "    </tr>\n",
       "    <tr>\n",
       "      <th>880</th>\n",
       "      <td>NaN</td>\n",
       "      <td>NaN</td>\n",
       "    </tr>\n",
       "    <tr>\n",
       "      <th>889</th>\n",
       "      <td>NaN</td>\n",
       "      <td>NaN</td>\n",
       "    </tr>\n",
       "    <tr>\n",
       "      <th>908</th>\n",
       "      <td>NaN</td>\n",
       "      <td>NaN</td>\n",
       "    </tr>\n",
       "    <tr>\n",
       "      <th>1132</th>\n",
       "      <td>NaN</td>\n",
       "      <td>NaN</td>\n",
       "    </tr>\n",
       "    <tr>\n",
       "      <th>1150</th>\n",
       "      <td>NaN</td>\n",
       "      <td>198.0</td>\n",
       "    </tr>\n",
       "    <tr>\n",
       "      <th>1197</th>\n",
       "      <td>NaN</td>\n",
       "      <td>NaN</td>\n",
       "    </tr>\n",
       "    <tr>\n",
       "      <th>1226</th>\n",
       "      <td>NaN</td>\n",
       "      <td>NaN</td>\n",
       "    </tr>\n",
       "    <tr>\n",
       "      <th>1402</th>\n",
       "      <td>NaN</td>\n",
       "      <td>NaN</td>\n",
       "    </tr>\n",
       "  </tbody>\n",
       "</table>\n",
       "</div>"
      ],
      "text/plain": [
       "     MasVnrType  MasVnrArea\n",
       "231         NaN         NaN\n",
       "246         NaN         NaN\n",
       "422         NaN         NaN\n",
       "532         NaN         NaN\n",
       "544         NaN         NaN\n",
       "581         NaN         NaN\n",
       "851         NaN         NaN\n",
       "865         NaN         NaN\n",
       "880         NaN         NaN\n",
       "889         NaN         NaN\n",
       "908         NaN         NaN\n",
       "1132        NaN         NaN\n",
       "1150        NaN       198.0\n",
       "1197        NaN         NaN\n",
       "1226        NaN         NaN\n",
       "1402        NaN         NaN"
      ]
     },
     "execution_count": 88,
     "metadata": {},
     "output_type": "execute_result"
    }
   ],
   "source": [
    "# Visualizando os valores vazios\n",
    "teste.loc[teste.MasVnrType.isnull(),['MasVnrType','MasVnrArea']]"
   ]
  },
  {
   "cell_type": "code",
   "execution_count": 89,
   "id": "270a9002",
   "metadata": {},
   "outputs": [
    {
     "data": {
      "text/plain": [
       "None       878\n",
       "BrkFace    434\n",
       "Stone      121\n",
       "BrkCmn      10\n",
       "Name: MasVnrType, dtype: int64"
      ]
     },
     "execution_count": 89,
     "metadata": {},
     "output_type": "execute_result"
    }
   ],
   "source": [
    "# Verificando os valores mais frequentes de MasVnrType\n",
    "teste.MasVnrType.value_counts()"
   ]
  },
  {
   "cell_type": "code",
   "execution_count": 90,
   "id": "7f70f012",
   "metadata": {},
   "outputs": [
    {
     "data": {
      "text/plain": [
       "'BrkFace'"
      ]
     },
     "execution_count": 90,
     "metadata": {},
     "output_type": "execute_result"
    }
   ],
   "source": [
    "# Selecionando da base valores que MasVnrArea não é zero\n",
    "teste[teste.MasVnrArea > 0].MasVnrType.mode()[0]"
   ]
  },
  {
   "cell_type": "code",
   "execution_count": 91,
   "id": "1a312591",
   "metadata": {},
   "outputs": [],
   "source": [
    "# E substituindo essa linha pelo valor mais frequente\n",
    "teste.loc[(teste.MasVnrType.isnull()) & (teste.MasVnrArea > 0),'MasVnrType'] = teste[teste.MasVnrArea > 0].MasVnrType.mode()[0]"
   ]
  },
  {
   "cell_type": "markdown",
   "id": "090edc18",
   "metadata": {},
   "source": [
    "- Agora para todos os outros valores, vamos fazer o mesmo que fizemos para a base de treino"
   ]
  },
  {
   "cell_type": "code",
   "execution_count": 92,
   "id": "6074cbd7",
   "metadata": {},
   "outputs": [
    {
     "data": {
      "text/plain": [
       "'None'"
      ]
     },
     "execution_count": 92,
     "metadata": {},
     "output_type": "execute_result"
    }
   ],
   "source": [
    "# Visualizando a moda\n",
    "treino.MasVnrType.mode()[0]"
   ]
  },
  {
   "cell_type": "code",
   "execution_count": 93,
   "id": "3e2f4b62",
   "metadata": {},
   "outputs": [
    {
     "data": {
      "text/plain": [
       "0.0"
      ]
     },
     "execution_count": 93,
     "metadata": {},
     "output_type": "execute_result"
    }
   ],
   "source": [
    "# MasVnrArea\n",
    "treino.MasVnrArea.mode()[0]"
   ]
  },
  {
   "cell_type": "code",
   "execution_count": 94,
   "id": "9ac4dc95",
   "metadata": {},
   "outputs": [],
   "source": [
    "# E como, para MasVnrType igual a None temos que MasVnrArea é zero\n",
    "teste.loc[teste.MasVnrType.isnull(),'MasVnrType'] = treino.MasVnrType.mode()[0]\n",
    "teste.loc[teste.MasVnrArea.isnull(),'MasVnrArea'] = treino.MasVnrArea.mode()[0]"
   ]
  },
  {
   "cell_type": "code",
   "execution_count": 95,
   "id": "5e7df394",
   "metadata": {},
   "outputs": [
    {
     "data": {
      "text/plain": [
       "MSZoning        4\n",
       "Functional      2\n",
       "Utilities       2\n",
       "Exterior2nd     1\n",
       "SaleType        1\n",
       "Exterior1st     1\n",
       "KitchenQual     1\n",
       "KitchenAbvGr    0\n",
       "GarageYrBlt     0\n",
       "GarageType      0\n",
       "dtype: int64"
      ]
     },
     "execution_count": 95,
     "metadata": {},
     "output_type": "execute_result"
    }
   ],
   "source": [
    "# Verificando valores vazios\n",
    "teste.isnull().sum().sort_values(ascending=False).head(10)"
   ]
  },
  {
   "cell_type": "markdown",
   "id": "65da8dae",
   "metadata": {},
   "source": [
    "<p style='text-align: right;'><a href=\"#index\">Voltar</a></p>"
   ]
  },
  {
   "cell_type": "markdown",
   "id": "fc233397",
   "metadata": {},
   "source": [
    "<a id='restante_teste'></a>\n",
    "- **Analisando o restante da base de teste**\n",
    "- **Entendendo essas colunas**\n",
    "    - **<font color='blue'>MSZoning</font>**: Região onde fica a casa\n",
    "        - NA: A informação não foi adicionada na base (ausência de informação)\n",
    "    - **<font color='blue'>Functional</font>**: Funcionalidades da casa\n",
    "        - NA: A informação não foi adicionada na base (ausência de informação)\n",
    "    - **<font color='blue'>Utilities</font>**: Utilidades disponíveis\n",
    "        - NA: A informação não foi adicionada na base (ausência de informação)\n",
    "    - ..."
   ]
  },
  {
   "cell_type": "code",
   "execution_count": 96,
   "id": "89c7bfe6",
   "metadata": {},
   "outputs": [
    {
     "data": {
      "text/plain": [
       "'RL'"
      ]
     },
     "execution_count": 96,
     "metadata": {},
     "output_type": "execute_result"
    }
   ],
   "source": [
    "# Verificando os valores em MSZoning\n",
    "teste.MSZoning.mode()[0]"
   ]
  },
  {
   "cell_type": "code",
   "execution_count": 97,
   "id": "46fb3e04",
   "metadata": {},
   "outputs": [],
   "source": [
    "# E usando a moda para substituir os valores\n",
    "teste.loc[teste.MSZoning.isnull(),'MSZoning'] = teste.MSZoning.mode()[0]"
   ]
  },
  {
   "cell_type": "code",
   "execution_count": 98,
   "id": "e3076eba",
   "metadata": {},
   "outputs": [
    {
     "data": {
      "text/plain": [
       "AllPub    1457\n",
       "Name: Utilities, dtype: int64"
      ]
     },
     "execution_count": 98,
     "metadata": {},
     "output_type": "execute_result"
    }
   ],
   "source": [
    "# Verificando os valores em Utilities\n",
    "teste.Utilities.value_counts()"
   ]
  },
  {
   "cell_type": "code",
   "execution_count": 99,
   "id": "de3c7f94",
   "metadata": {},
   "outputs": [],
   "source": [
    "# E usando a moda para substituir os valores\n",
    "teste.loc[teste.Utilities.isnull(),'Utilities'] = teste.Utilities.mode()[0]"
   ]
  },
  {
   "cell_type": "code",
   "execution_count": 100,
   "id": "efe3ed1f",
   "metadata": {},
   "outputs": [
    {
     "data": {
      "text/plain": [
       "Typ     1357\n",
       "Min2      36\n",
       "Min1      34\n",
       "Mod       20\n",
       "Maj1       5\n",
       "Maj2       4\n",
       "Sev        1\n",
       "Name: Functional, dtype: int64"
      ]
     },
     "execution_count": 100,
     "metadata": {},
     "output_type": "execute_result"
    }
   ],
   "source": [
    "# Verificando os valores em Functional\n",
    "teste.Functional.value_counts()"
   ]
  },
  {
   "cell_type": "code",
   "execution_count": 101,
   "id": "5295d388",
   "metadata": {},
   "outputs": [],
   "source": [
    "# Novamente utilizando a moda\n",
    "teste.loc[teste.Functional.isnull(),'Functional'] = teste.Functional.mode()[0]"
   ]
  },
  {
   "cell_type": "code",
   "execution_count": 102,
   "id": "17793c3b",
   "metadata": {},
   "outputs": [
    {
     "name": "stdout",
     "output_type": "stream",
     "text": [
      "VinylSd\n",
      "WD\n",
      "VinylSd\n",
      "TA\n"
     ]
    }
   ],
   "source": [
    "# Visualizando as ultimas colunas\n",
    "print(teste.Exterior2nd.mode()[0])\n",
    "print(teste.SaleType.mode()[0])\n",
    "print(teste.Exterior1st.mode()[0])\n",
    "print(teste.KitchenQual.mode()[0])"
   ]
  },
  {
   "cell_type": "code",
   "execution_count": 103,
   "id": "0ff9c442",
   "metadata": {},
   "outputs": [],
   "source": [
    "# E substituindo esses valores\n",
    "teste.loc[teste.Exterior2nd.isnull(),'Exterior2nd'] = teste.Exterior2nd.mode()[0]\n",
    "teste.loc[teste.SaleType.isnull(),'SaleType'] = teste.SaleType.mode()[0]\n",
    "teste.loc[teste.Exterior1st.isnull(),'Exterior1st'] = teste.Exterior1st.mode()[0]\n",
    "teste.loc[teste.KitchenQual.isnull(),'KitchenQual'] = teste.KitchenQual.mode()[0]"
   ]
  },
  {
   "cell_type": "code",
   "execution_count": 104,
   "id": "bb4239b7",
   "metadata": {},
   "outputs": [
    {
     "data": {
      "text/plain": [
       "Id             0\n",
       "MSSubClass     0\n",
       "GarageType     0\n",
       "FireplaceQu    0\n",
       "Fireplaces     0\n",
       "dtype: int64"
      ]
     },
     "execution_count": 104,
     "metadata": {},
     "output_type": "execute_result"
    }
   ],
   "source": [
    "# Verificando valores vazios\n",
    "teste.isnull().sum().sort_values(ascending=False).head(5)"
   ]
  },
  {
   "cell_type": "markdown",
   "id": "26491179",
   "metadata": {},
   "source": [
    "- **Para finalizar, vamos exportar essas duas bases**"
   ]
  },
  {
   "cell_type": "code",
   "execution_count": 105,
   "id": "1d3df8f8",
   "metadata": {},
   "outputs": [],
   "source": [
    "# Exportando a base de treino e teste\n",
    "treino.to_csv('train_2.csv',index=False)\n",
    "teste.to_csv('test_2.csv',index=False)"
   ]
  }
 ],
 "metadata": {
  "kernelspec": {
   "display_name": "Python 3 (ipykernel)",
   "language": "python",
   "name": "python3"
  },
  "language_info": {
   "codemirror_mode": {
    "name": "ipython",
    "version": 3
   },
   "file_extension": ".py",
   "mimetype": "text/x-python",
   "name": "python",
   "nbconvert_exporter": "python",
   "pygments_lexer": "ipython3",
   "version": "3.11.4"
  }
 },
 "nbformat": 4,
 "nbformat_minor": 5
}
